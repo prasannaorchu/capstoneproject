{
 "cells": [
  {
   "cell_type": "code",
   "execution_count": 61,
   "id": "4f4c58c7",
   "metadata": {},
   "outputs": [],
   "source": [
    "from faker import Faker\n",
    "import pandas as pd\n",
    "from faker.providers import DynamicProvider\n",
    "\n",
    "fake = Faker()"
   ]
  },
  {
   "cell_type": "code",
   "execution_count": 62,
   "id": "0d22002f",
   "metadata": {},
   "outputs": [],
   "source": [
    "n_product=100"
   ]
  },
  {
   "cell_type": "code",
   "execution_count": 63,
   "id": "6cbf6324",
   "metadata": {},
   "outputs": [],
   "source": [
    "product_set=[]\n",
    "\n",
    "while(len(set(product_set))<=n_product):\n",
    "    product_set.append(fake.name())"
   ]
  },
  {
   "cell_type": "code",
   "execution_count": 64,
   "id": "19adf656",
   "metadata": {},
   "outputs": [],
   "source": [
    "prodname= DynamicProvider(\n",
    "     provider_name=\"prodname\",\n",
    "     elements=['Rice','Dall','apples','orengs','bringal','carrot','betroots','tamarind','peas','grapes','mangos','kewi','letchi'])\n",
    "\n",
    "\n",
    "fake.add_provider(prodname)"
   ]
  },
  {
   "cell_type": "code",
   "execution_count": 65,
   "id": "97f890e5",
   "metadata": {},
   "outputs": [],
   "source": [
    "product_Set = list(set(product_set))"
   ]
  },
  {
   "cell_type": "code",
   "execution_count": 66,
   "id": "c26b7350",
   "metadata": {},
   "outputs": [],
   "source": [
    "rate = DynamicProvider(\n",
    "     provider_name=\"rate\",\n",
    "     elements=[55,76,76,34,98,44,22,14,11,25,78,83,54,43,74,61,99,10,27,80])\n",
    "\n",
    "fake.add_provider(rate)\n"
   ]
  },
  {
   "cell_type": "code",
   "execution_count": 67,
   "id": "d9333099",
   "metadata": {},
   "outputs": [],
   "source": [
    "sku = DynamicProvider(\n",
    "     provider_name=\"sku\",\n",
    "     elements=['2KG','4KG','6KG','8KG','9KG','1KG','3KG','5KG','7KG','11KG','14KG','12KG',])\n",
    "\n",
    "fake.add_provider(sku)\n"
   ]
  },
  {
   "cell_type": "code",
   "execution_count": 68,
   "id": "733c20ca",
   "metadata": {},
   "outputs": [],
   "source": [
    "isactive = DynamicProvider(\n",
    "     provider_name=\"isactive\",\n",
    "     elements=['FALSE','TRUE',])\n",
    "\n",
    "fake.add_provider(isactive)\n"
   ]
  },
  {
   "cell_type": "code",
   "execution_count": 69,
   "id": "21681fe6",
   "metadata": {},
   "outputs": [],
   "source": [
    "req_list=[]\n",
    "for i in range(100):\n",
    "    x =[]\n",
    "    x.append(i)\n",
    "    x.append(str(fake.unique.country_code()))\n",
    "    x.append(str(fake.prodname()))\n",
    "    x.append(str(fake.sku()))\n",
    "    x.append(str(fake.rate()))\n",
    "    x.append(fake.isactive())\n",
    "   \n",
    "    \n",
    "    \n",
    "\n",
    "   \n",
    "    req_list.append(x)"
   ]
  },
  {
   "cell_type": "code",
   "execution_count": 70,
   "id": "ed20344f",
   "metadata": {},
   "outputs": [],
   "source": [
    "df = pd.DataFrame(req_list)"
   ]
  },
  {
   "cell_type": "code",
   "execution_count": 86,
   "id": "dad90080",
   "metadata": {},
   "outputs": [
    {
     "data": {
      "text/html": [
       "<div>\n",
       "<style scoped>\n",
       "    .dataframe tbody tr th:only-of-type {\n",
       "        vertical-align: middle;\n",
       "    }\n",
       "\n",
       "    .dataframe tbody tr th {\n",
       "        vertical-align: top;\n",
       "    }\n",
       "\n",
       "    .dataframe thead th {\n",
       "        text-align: right;\n",
       "    }\n",
       "</style>\n",
       "<table border=\"1\" class=\"dataframe\">\n",
       "  <thead>\n",
       "    <tr style=\"text-align: right;\">\n",
       "      <th></th>\n",
       "      <th>PRODUCTID</th>\n",
       "      <th>PRODUCTCODE</th>\n",
       "      <th>PRODUCTNAME</th>\n",
       "      <th>SKU</th>\n",
       "      <th>RATE</th>\n",
       "      <th>ISACTIVE</th>\n",
       "    </tr>\n",
       "  </thead>\n",
       "  <tbody>\n",
       "    <tr>\n",
       "      <th>0</th>\n",
       "      <td>0</td>\n",
       "      <td>QA</td>\n",
       "      <td>tamarind</td>\n",
       "      <td>2KG</td>\n",
       "      <td>83</td>\n",
       "      <td>FALSE</td>\n",
       "    </tr>\n",
       "    <tr>\n",
       "      <th>1</th>\n",
       "      <td>1</td>\n",
       "      <td>BW</td>\n",
       "      <td>tamarind</td>\n",
       "      <td>2KG</td>\n",
       "      <td>22</td>\n",
       "      <td>TRUE</td>\n",
       "    </tr>\n",
       "    <tr>\n",
       "      <th>2</th>\n",
       "      <td>2</td>\n",
       "      <td>EC</td>\n",
       "      <td>peas</td>\n",
       "      <td>2KG</td>\n",
       "      <td>76</td>\n",
       "      <td>TRUE</td>\n",
       "    </tr>\n",
       "    <tr>\n",
       "      <th>3</th>\n",
       "      <td>3</td>\n",
       "      <td>AR</td>\n",
       "      <td>betroots</td>\n",
       "      <td>8KG</td>\n",
       "      <td>10</td>\n",
       "      <td>TRUE</td>\n",
       "    </tr>\n",
       "    <tr>\n",
       "      <th>4</th>\n",
       "      <td>4</td>\n",
       "      <td>SB</td>\n",
       "      <td>apples</td>\n",
       "      <td>3KG</td>\n",
       "      <td>25</td>\n",
       "      <td>TRUE</td>\n",
       "    </tr>\n",
       "  </tbody>\n",
       "</table>\n",
       "</div>"
      ],
      "text/plain": [
       "   PRODUCTID PRODUCTCODE PRODUCTNAME  SKU RATE ISACTIVE\n",
       "0          0          QA    tamarind  2KG   83    FALSE\n",
       "1          1          BW    tamarind  2KG   22     TRUE\n",
       "2          2          EC        peas  2KG   76     TRUE\n",
       "3          3          AR    betroots  8KG   10     TRUE\n",
       "4          4          SB      apples  3KG   25     TRUE"
      ]
     },
     "execution_count": 86,
     "metadata": {},
     "output_type": "execute_result"
    }
   ],
   "source": [
    "df.head()"
   ]
  },
  {
   "cell_type": "code",
   "execution_count": 85,
   "id": "86a98016",
   "metadata": {},
   "outputs": [],
   "source": [
    "df.columns=['PRODUCTID','PRODUCTCODE','PRODUCTNAME','SKU','RATE','ISACTIVE']"
   ]
  },
  {
   "cell_type": "code",
   "execution_count": 72,
   "id": "6f5dca83",
   "metadata": {},
   "outputs": [],
   "source": [
    "df.to_csv('product_master.csv',index=False)"
   ]
  },
  {
   "cell_type": "code",
   "execution_count": 73,
   "id": "9cca80c1",
   "metadata": {},
   "outputs": [],
   "source": [
    "import psycopg2"
   ]
  },
  {
   "cell_type": "code",
   "execution_count": 91,
   "id": "c6d682d4",
   "metadata": {},
   "outputs": [],
   "source": [
    "import psycopg2\n",
    "#establishing the connection\n",
    "try:\n",
    "    conn = psycopg2.connect(\n",
    "       database=\"postgres\", user='postgres', password='{_/U{[^z>;OVTf\\';', host='35.196.4.55', port= '5432')\n",
    "    #Creating a cursor object using the cursor() method\n",
    "except Exception as error:\n",
    "    print(\"failed connecting to database\")\n",
    "cursor = conn.cursor()"
   ]
  },
  {
   "cell_type": "code",
   "execution_count": 92,
   "id": "b82c23e0",
   "metadata": {},
   "outputs": [],
   "source": [
    "create_table = \"\"\"CREATE TABLE if not exists product_master(\n",
    "                productid integer,\n",
    "                productcode varchar(20) NOT NULL,\n",
    "                productname\tvarchar(100),\n",
    "                sku\tvarchar(20),\n",
    "                rate numeric(20),\n",
    "                isactive boolean);\"\"\"\n",
    "\n",
    "\n",
    "try:\n",
    "    cursor.execute(create_table)\n",
    "    conn.commit()\n",
    "except Exception as error:\n",
    "        print(\"failed creating table:{}\",error)"
   ]
  },
  {
   "cell_type": "code",
   "execution_count": 93,
   "id": "3f2ad624",
   "metadata": {},
   "outputs": [
    {
     "name": "stdout",
     "output_type": "stream",
     "text": [
      "0\n",
      "1\n",
      "2\n",
      "3\n",
      "4\n",
      "5\n",
      "6\n",
      "7\n",
      "8\n",
      "9\n",
      "10\n",
      "11\n",
      "12\n",
      "13\n",
      "14\n",
      "15\n",
      "16\n",
      "17\n",
      "18\n",
      "19\n",
      "20\n",
      "21\n",
      "22\n",
      "23\n",
      "24\n",
      "25\n",
      "26\n",
      "27\n",
      "28\n",
      "29\n",
      "30\n",
      "31\n",
      "32\n",
      "33\n",
      "34\n",
      "35\n",
      "36\n",
      "37\n",
      "38\n",
      "39\n",
      "40\n",
      "41\n",
      "42\n",
      "43\n",
      "44\n",
      "45\n",
      "46\n",
      "47\n",
      "48\n",
      "49\n",
      "50\n",
      "51\n",
      "52\n",
      "53\n",
      "54\n",
      "55\n",
      "56\n",
      "57\n",
      "58\n",
      "59\n",
      "60\n",
      "61\n",
      "62\n",
      "63\n",
      "64\n",
      "65\n",
      "66\n",
      "67\n",
      "68\n",
      "69\n",
      "70\n",
      "71\n",
      "72\n",
      "73\n",
      "74\n",
      "75\n",
      "76\n",
      "77\n",
      "78\n",
      "79\n",
      "80\n",
      "81\n",
      "82\n",
      "83\n",
      "84\n",
      "85\n",
      "86\n",
      "87\n",
      "88\n",
      "89\n",
      "90\n",
      "91\n",
      "92\n",
      "93\n",
      "94\n",
      "95\n",
      "96\n",
      "97\n",
      "98\n",
      "99\n"
     ]
    }
   ],
   "source": [
    "for i in range(len(df)):\n",
    "    productid = int(df['PRODUCTID'].iloc[i])\n",
    "    productcode = str(df['PRODUCTCODE'].iloc[i])\n",
    "    productname = str(df['PRODUCTNAME'].iloc[i])\n",
    "    sku = str(df['SKU'].iloc[i])\n",
    "    rate = str(df['RATE'].iloc[i])\n",
    "    isactive = str(df['ISACTIVE'].iloc[i])\n",
    "    \n",
    "    query = (\"insert into product_master (productid,productcode, productname, sku, rate, isactive)\"\n",
    "         \"values (%s, %s, %s, %s, %s, %s)\")\n",
    "\n",
    "    val = (productid,productcode, productname, sku, rate, isactive)\n",
    "    cursor.execute(query,val)\n",
    "    conn.commit()\n",
    "    print(i)\n",
    "    "
   ]
  },
  {
   "cell_type": "code",
   "execution_count": null,
   "id": "842cb040",
   "metadata": {},
   "outputs": [],
   "source": []
  }
 ],
 "metadata": {
  "kernelspec": {
   "display_name": "Python 3 (ipykernel)",
   "language": "python",
   "name": "python3"
  },
  "language_info": {
   "codemirror_mode": {
    "name": "ipython",
    "version": 3
   },
   "file_extension": ".py",
   "mimetype": "text/x-python",
   "name": "python",
   "nbconvert_exporter": "python",
   "pygments_lexer": "ipython3",
   "version": "3.10.5"
  }
 },
 "nbformat": 4,
 "nbformat_minor": 5
}
